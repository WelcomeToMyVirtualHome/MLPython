{
 "cells": [
  {
   "cell_type": "code",
   "execution_count": 1,
   "metadata": {},
   "outputs": [],
   "source": [
    "import numpy as np\n",
    "import matplotlib\n",
    "import matplotlib.pyplot as plt"
   ]
  },
  {
   "cell_type": "code",
   "execution_count": 54,
   "metadata": {},
   "outputs": [],
   "source": [
    "count = 10\n",
    "X1 = np.concatenate((np.random.normal(5, 1, count),np.random.normal(2, 1, count)))\n",
    "X2 = np.concatenate((np.random.normal(5, 1, count),np.random.normal(2, 1, count)))\n",
    "Y = np.concatenate((np.zeros(count),np.ones(count)))"
   ]
  },
  {
   "cell_type": "code",
   "execution_count": 55,
   "metadata": {},
   "outputs": [
    {
     "data": {
      "text/plain": [
       "<matplotlib.collections.PathCollection at 0x7fa8a44685f8>"
      ]
     },
     "execution_count": 55,
     "metadata": {},
     "output_type": "execute_result"
    },
    {
     "data": {
      "image/png": "[encoded data removed]",
      "text/plain": [
       "<Figure size 288x288 with 1 Axes>"
      ]
     },
     "metadata": {},
     "output_type": "display_data"
    }
   ],
   "source": [
    "colors = ['red','blue']\n",
    "fig = plt.figure(figsize=(4,4))\n",
    "plt.scatter(X1, X2, c=Y, cmap=matplotlib.colors.ListedColormap(colors))"
   ]
  },
  {
   "cell_type": "code",
   "execution_count": 62,
   "metadata": {},
   "outputs": [],
   "source": [
    "def pdf(x,mean,sd):\n",
    "    return 1/(np.sqrt(2*3.14)*sd)*np.exp(-(x-mean)**2/(2*sd**2))"
   ]
  },
  {
   "cell_type": "code",
   "execution_count": 63,
   "metadata": {},
   "outputs": [],
   "source": [
    "unique, counts = np.unique(Y, return_counts=True)\n",
    "d = dict(zip(unique, counts))\n",
    "P1 = d[1]/len(Y)\n",
    "P0 = d[0]/len(Y)"
   ]
  },
  {
   "cell_type": "code",
   "execution_count": 73,
   "metadata": {},
   "outputs": [],
   "source": [
    "m_P_x1_y0 = np.mean(X1[:count])\n",
    "m_P_x1_y1 = np.mean(X1[count:])\n",
    "sd_P_x1_y0 = np.std(X1[:count])\n",
    "sd_P_x1_y1 = np.std(X1[count:])\n",
    "\n",
    "m_P_x2_y0 = np.mean(X2[:count])\n",
    "m_P_x2_y1 = np.mean(X2[count:])\n",
    "sd_P_x2_y0 = np.std(X1[:count])\n",
    "sd_P_x2_y1 = np.std(X1[count:])"
   ]
  },
  {
   "cell_type": "code",
   "execution_count": 84,
   "metadata": {},
   "outputs": [
    {
     "name": "stdout",
     "output_type": "stream",
     "text": [
      "[ True  True  True  True  True  True  True  True  True  True False False\n",
      " False False False  True False False False False]\n"
     ]
    }
   ],
   "source": [
    "pred0 = pdf(X1,m_P_x1_y0,sd_P_x1_y0)*pdf(X2,m_P_x2_y0,sd_P_x2_y0)*P0\n",
    "pred1 = pdf(X1,m_P_x1_y1,sd_P_x1_y1)*pdf(X2,m_P_x2_y1,sd_P_x2_y1)*P1\n",
    "\n",
    "print(np.greater_equal(pred0, pred1))"
   ]
  },
  {
   "cell_type": "code",
   "execution_count": null,
   "metadata": {},
   "outputs": [],
   "source": []
  },
  {
   "cell_type": "code",
   "execution_count": null,
   "metadata": {},
   "outputs": [],
   "source": []
  }
 ],
 "metadata": {
  "kernelspec": {
   "display_name": "Python 3",
   "language": "python",
   "name": "python3"
  },
  "language_info": {
   "codemirror_mode": {
    "name": "ipython",
    "version": 3
   },
   "file_extension": ".py",
   "mimetype": "text/x-python",
   "name": "python",
   "nbconvert_exporter": "python",
   "pygments_lexer": "ipython3",
   "version": "3.6.5"
  }
 },
 "nbformat": 4,
 "nbformat_minor": 2
}
